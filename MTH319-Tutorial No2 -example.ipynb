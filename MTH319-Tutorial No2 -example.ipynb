{
 "cells": [
  {
   "cell_type": "code",
   "execution_count": 14,
   "metadata": {},
   "outputs": [
    {
     "name": "stdout",
     "output_type": "stream",
     "text": [
      "black jack\n",
      "You can create\n",
      "long strings\n"
     ]
    }
   ],
   "source": [
    "# refer to MTH319 Tutorial -No 2 (Part I) - Python Basics\n",
    "\n",
    "#string data\n",
    "first = 'black'\n",
    "second = 'jack'\n",
    "third = '''You can create\n",
    "long strings'''\n",
    "print(first +' ' + second)\n",
    "print(third)\n"
   ]
  },
  {
   "cell_type": "code",
   "execution_count": 13,
   "metadata": {},
   "outputs": [
    {
     "name": "stdout",
     "output_type": "stream",
     "text": [
      "the answer is 12.7\n"
     ]
    }
   ],
   "source": [
    "x=12.7\n",
    "print('the answer is '+repr(x))"
   ]
  },
  {
   "cell_type": "code",
   "execution_count": 35,
   "metadata": {},
   "outputs": [
    {
     "name": "stdout",
     "output_type": "stream",
     "text": [
      "Type of what is:\n",
      "<class 'str'>\n",
      "Type of what[3] is:\n",
      "<class 'str'>\n",
      "s\n",
      "Thi\n",
      "s par\n",
      "Note that:This parrot is dead\n"
     ]
    }
   ],
   "source": [
    "what = 'This parrot is dead' #index starts from 0\n",
    "\n",
    "print('Type of what is:')\n",
    "print(type(what)) \n",
    "\n",
    "print('Type of what[3] is:')\n",
    "print(type(what[3])) \n",
    "\n",
    "print(what[3])\n",
    "print(what[0:3])\n",
    "\n",
    "start =3\n",
    "finish = 8\n",
    "print(what[3:8])\n",
    "\n",
    "#what.split()\n",
    "what.split(maxsplit=2) #with maxsplit+1 elements\n",
    "\n",
    "what2 = 'Note that:'\n",
    "print(what2+what)"
   ]
  },
  {
   "cell_type": "code",
   "execution_count": 40,
   "metadata": {},
   "outputs": [
    {
     "name": "stdout",
     "output_type": "stream",
     "text": [
      "6\n",
      "2+4=6\n",
      "-2\n",
      "8\n",
      "16\n",
      "0.5\n",
      "2\n"
     ]
    }
   ],
   "source": [
    "#numeric data\n",
    "a =2\n",
    "b= 4\n",
    "\n",
    "print(a+b)\n",
    "\n",
    "print('%d+%d=%d'%(a,b,a+b))\n",
    "\n",
    "print(a-b)\n",
    "print(a*b)\n",
    "print(a**b)\n",
    "print(a/b)\n",
    "print(a%b)\n"
   ]
  },
  {
   "cell_type": "code",
   "execution_count": 122,
   "metadata": {},
   "outputs": [
    {
     "name": "stdout",
     "output_type": "stream",
     "text": [
      "[7, 9, 12, 15, 17, 19, 103]\n",
      "[49, 81, 144, 225, 289, 361, 10609]\n",
      "[7, 9, 12, 15, 17, 19, 103]\n",
      "length of newlist2=7\n",
      "[1, 2]\n",
      "[10, 20, 30, [10, 50, 100, [0, 1, 2]]]\n",
      "[10, 50, 100, [0, 1, 2]]\n",
      "[0, 1, 2]\n",
      "0\n",
      "1\n",
      "2\n"
     ]
    }
   ],
   "source": [
    "# List, Tuples and Dictionaries\n",
    "\n",
    "newlist =[7, 9, 12, 15, 17, 19 , 103]\n",
    "\n",
    "print(type(newlist))\n",
    "print(newlist)\n",
    "\n",
    "newlist3 = [i*i for i in newlist]\n",
    "print(newlist3)\n",
    "\n",
    "newlist2 =[7, 9, 12, 15,\\\n",
    "         17, 19 , 103]\n",
    "print(newlist2)\n",
    "\n",
    "print('length of %s=%d'%('newlist2', len(newlist2)))\n",
    "\n",
    "newlist3 = [1, 2, [10,20, 30,[10,50,100, [0,1,2]]], 5, [1,7, 8]]\n",
    "print(newlist3[0:2])\n",
    "print(newlist3[2])\n",
    "print(newlist3[2][3])\n",
    "print(newlist3[2][3][3])\n",
    "print(newlist3[2][3][3][0])\n",
    "print(newlist3[2][3][3][1])\n",
    "print(newlist3[2][3][3][2])"
   ]
  },
  {
   "cell_type": "code",
   "execution_count": 76,
   "metadata": {},
   "outputs": [
    {
     "name": "stdout",
     "output_type": "stream",
     "text": [
      "[5, 10, 15]\n",
      "[0, 6, 7, 8]\n",
      "[7, 9, 'dog', 'cat', 13, 14, 12]\n",
      "True\n",
      "False\n",
      "False\n",
      "['couch', 'chair', 'table', 'footstool']\n",
      "[1, 5, 7, 9, 10, 20, 30, 40]\n",
      "[10, 20, 30, 40, 1, 5, 7, 9, 10, 20, 30, 40]\n",
      "the length of oldlist = 6\n",
      "[-3, -8]\n",
      "[7, 9, -3, 5, -8, 19]\n"
     ]
    }
   ],
   "source": [
    "thelist =[0,5,10,15,20]\n",
    "\n",
    "print(thelist[1:4])\n",
    "\n",
    "thelist[1:4]=[6,7,8]\n",
    "print(thelist[0:4])\n",
    "\n",
    "first = [7,9,'dog']\n",
    "second = ['cat', 13, 14,12]\n",
    "print(first+second)\n",
    "\n",
    "# 'in' operator\n",
    "squarepairs =[[0,0], [1,1], [2,4], [3,9]]\n",
    "print([2,4] in squarepairs)\n",
    "print([0,4] in squarepairs)\n",
    "print(4 in squarepairs)\n",
    "\n",
    "# append method\n",
    "funiture = ['couch', 'chair', 'table']\n",
    "funiture.append('footstool')\n",
    "print(funiture)\n",
    "\n",
    "a = [1, 5, 7, 9]\n",
    "b = [10, 20, 30, 40]\n",
    "a.extend(b)\n",
    "print(a)\n",
    "b.extend(a)\n",
    "print(b)\n",
    "\n",
    "oldlist = [7, 9, -3, 5, -8, 19]\n",
    "print('the length of %s = %d'%('oldlist', len(oldlist)))\n",
    "\n",
    "newlist = []\n",
    "for i in oldlist:\n",
    "    if i<0: \n",
    "        newlist.append(i)\n",
    "\n",
    "print(newlist)\n",
    "\n",
    "newlist2 = oldlist[:]  # or oldlist\n",
    "print(newlist2)\n"
   ]
  },
  {
   "cell_type": "code",
   "execution_count": 78,
   "metadata": {},
   "outputs": [
    {
     "name": "stdout",
     "output_type": "stream",
     "text": [
      "(3, 4, 5, 4, 5, 5, 5)\n",
      "(3, 4, 5, 4, 5, 5, 5, 7)\n",
      "4\n"
     ]
    }
   ],
   "source": [
    "#Tuple object\n",
    "values = (3, 4, 5, 4, 5, 5,5)\n",
    "values + (7,)\n",
    "print(values)\n",
    "\n",
    "newvalue = 7,\n",
    "print(values+newvalue)\n",
    "\n",
    "print(list(values).count(5))\n"
   ]
  },
  {
   "cell_type": "code",
   "execution_count": 38,
   "metadata": {},
   "outputs": [
    {
     "name": "stdout",
     "output_type": "stream",
     "text": [
      "<class 'dict'>\n",
      "dict_keys(['Fred', 'Andy', 'Sue'])\n",
      "dict_values(['555-1231', '555-1195', '555-2194'])\n",
      "555-2194\n",
      "21\n",
      "52\n",
      "dict_keys([(7, 3), (13, 4), (18, 5)])\n",
      "dict_values([21, 52, 90])\n"
     ]
    }
   ],
   "source": [
    "# Dictionaries\n",
    "phonelist=[('Fred','555-1231'),('Andy','555-1195'), ('Sue', '555-2194')]  #list\n",
    "\n",
    "phonedict = {}  # empty one\n",
    "phonedict ={'Fred':'555-1231','Andy':'555-1195','Sue': '555-2194'}  # key:values pairs\n",
    "print(type(phonedict))\n",
    "print(phonedict.keys())\n",
    "print(phonedict.values())\n",
    "print(phonedict['Sue'])\n",
    "\n",
    "tupledict={(7,3):21, (13,4):52, (18,5):90}\n",
    "print(tupledict[(4+3,2+1)])\n",
    "print(tupledict[(13,4)])\n",
    "print(tupledict.keys())\n",
    "print(tupledict.values())\n"
   ]
  },
  {
   "cell_type": "code",
   "execution_count": 120,
   "metadata": {},
   "outputs": [
    {
     "name": "stdout",
     "output_type": "stream",
     "text": [
      "Setting y to 2\n",
      "John Smith\n",
      "Fred John\n",
      "Sue Williams\n",
      "0\n",
      "1\n",
      "2\n",
      "3\n",
      "4\n",
      "[2, 3, 4, 5, 6]\n",
      "[12.48, 14.56, 17.68]\n",
      "guess=1.912931,guess^3=7\n",
      "3\n",
      "4\n",
      "5\n",
      "6\n",
      "Maximum value  is 92 at position 2.\n",
      "the value of x_find is found with 44 at 5.\n"
     ]
    }
   ],
   "source": [
    "# Logical operators and if statement\n",
    "x = 2\n",
    "if x == 1: \n",
    "    z = 1\n",
    "    print ('Setting z to 1')\n",
    "elif x == 2:\n",
    "    y = 2\n",
    "    print ('Setting y to 2')\n",
    "elif x == 3:\n",
    "    w = 3\n",
    "    print('Setting w to 3')\n",
    "else:\n",
    "    print('Other choice...')\n",
    "    \n",
    "    \n",
    "# for loops\n",
    "names =[('Smith','John'),('John','Fred'),('Williams', 'Sue')]\n",
    "for i in names:\n",
    "    print('%s %s'%(i[1],i[0]))\n",
    "\n",
    "    \n",
    "# range\n",
    "x = [1,2,3,4,5]\n",
    "for i in range(len(x)):\n",
    "    x[i]= i + 2   # try x[i]= i + 1\n",
    "    print(i)\n",
    "\n",
    "print(x)\n",
    "\n",
    "prices = [12.00, 14.00, 17.00]\n",
    "taxes = [0.48, 0.56, 0.68]\n",
    "total = [] # empty list\n",
    "for i in range(len(prices)):\n",
    "    total.append(prices[i]+taxes[i])\n",
    "    #print(total[i])\n",
    "\n",
    "print(total)\n",
    "\n",
    "# while loop\n",
    "num = 7.0\n",
    "oldguess = 0.\n",
    "guess = 3.\n",
    "while abs(num - guess**3) > 1.e-8:\n",
    "    oldguess = guess\n",
    "    guess = oldguess - (oldguess**3-num)/(3*oldguess**2)\n",
    "    \n",
    "print('guess=%f,guess^3=%d'%(guess, guess**3))\n",
    "\n",
    "\n",
    "# break / continue\n",
    "x  = [7, 12, 92, 19, 18, 44, 31]\n",
    "xmax = x[0]\n",
    "imax = 0\n",
    "for i in range(1,len(x)):\n",
    "    if x[i] <= xmax: \n",
    "        print(i)\n",
    "        continue       \n",
    "    xmax = x[i]\n",
    "    imax = i\n",
    "    #else:\n",
    "    #    print('the max iteration of %d is reached.'%(i))\n",
    "    #    break\n",
    "\n",
    "print('Maximum value  is %d at position %d.'%(xmax, imax))\n",
    "\n",
    "#2\n",
    "x  = [7, 12, 92, 19, 18, 44, 31]\n",
    "x_find = x[5]\n",
    "imax = 0\n",
    "for i in range(1,len(x)):\n",
    "    if x[i] != x_find:\n",
    "        continue\n",
    "    else:\n",
    "        print('the value of x_find is found with %d at %d.'%(x[i],i))\n",
    "        break\n",
    "\n",
    "# new way to construct list\n",
    "newlist =[7, 9, 12, 15, 17, 19 , 103]\n",
    "print(newlist)\n",
    "newlist3 = [i*i for i in newlist]\n",
    "print(newlist3)\n"
   ]
  },
  {
   "cell_type": "code",
   "execution_count": 15,
   "metadata": {},
   "outputs": [
    {
     "name": "stdout",
     "output_type": "stream",
     "text": [
      "[0.1, 0.2, 0.3, 0.4, 0.5]\n",
      "[7, 12, 19, 44, 32, 8, 12, 19, 31, 44, 66]\n",
      " string+with+blanks\n",
      "4\n"
     ]
    }
   ],
   "source": [
    "# functions\n",
    "scale = 10.0\n",
    "\n",
    "def doscale(list):\n",
    "    newlist = []\n",
    "    for i in list:\n",
    "        newlist.append(i/scale)\n",
    "    return newlist    \n",
    "\n",
    "mylist = [1,2,3,4,5]\n",
    "otherlist = doscale(mylist)\n",
    "print(otherlist)\n",
    "\n",
    "#2\n",
    "def merge(list1, list2):\n",
    "    newlist = list1[:]\n",
    "    for i in list2:\n",
    "        newlist.append(i)\n",
    "    return newlist\n",
    "\n",
    "one = [7,12, 19, 44, 32]\n",
    "two = [8,12, 19, 31, 44, 66]\n",
    "print(merge(one,two))\n",
    "\n",
    "#3\n",
    "def change_letter(string, frm=' ', to= ' '):\n",
    "    newstring = ' '\n",
    "    for i in string:\n",
    "        if i== frm:\n",
    "            newstring = newstring + to\n",
    "        else:\n",
    "            newstring = newstring + i\n",
    "    return newstring\n",
    "\n",
    "print(change_letter('string with blanks', to= '+'))\n",
    "\n",
    "#4: anonymous functions\n",
    "results = lambda x: x+1\n",
    "print(results(3))"
   ]
  },
  {
   "cell_type": "code",
   "execution_count": 32,
   "metadata": {},
   "outputs": [
    {
     "name": "stdout",
     "output_type": "stream",
     "text": [
      "2\n",
      "3\n",
      "6\n",
      "[1.  1.  1.5]\n",
      "[0.81649658 1.24721913]\n",
      "1.5723301886761005\n",
      "19\n",
      "[0.59659162 0.2813369  0.38791259 0.28811926 0.80338194 0.66464941\n",
      " 0.33056992 0.3340684  0.92117795 0.06912062 0.71819468 0.22700602\n",
      " 0.64333301 0.63352575 0.24643133 0.34701978 0.76929814 0.40543624\n",
      " 0.41789733 0.75320009 0.41965414 0.26997802 0.56779458 0.22926234\n",
      " 0.91555055 0.66411635 0.73747795 0.87638141 0.78474238 0.45174642\n",
      " 0.05769661 0.8309028  0.80782032 0.94504889 0.417306   0.70290375\n",
      " 0.88175813 0.48372678 0.59113753 0.70174511 0.02620551 0.08310144\n",
      " 0.81091534 0.0849451  0.67941226 0.97763068 0.53507901 0.11940753\n",
      " 0.37416862 0.92726846]\n",
      "[-1.72297625 -0.38781156  0.15872559  1.57936144  1.85576569  0.08421288\n",
      " -2.11271588  0.58612798  0.33932855 -0.09432778  0.5748691   0.52206763\n",
      " -0.40441886 -1.54596295 -2.31778967  1.00554471  0.93789766 -0.90082923\n",
      " -1.17888712  0.00505519 -0.23503961  0.55419917 -0.65434782 -1.2329494\n",
      "  0.83108502  0.1285555  -0.84718942  1.14080591 -1.76485343 -0.85151775\n",
      "  1.15433815  1.04436524  0.38574802 -0.04049041 -0.10678863 -0.5926946\n",
      "  1.51831428  0.95600285 -1.231767   -0.37821002 -0.24083077  0.67024449\n",
      "  1.63542108  0.54637735  0.54551547  0.19578047 -0.67937609 -0.80174042\n",
      " -2.07282038 -0.18140257]\n",
      "[0.  0.1 0.2 0.3 0.4 0.5 0.6 0.7 0.8 0.9]\n"
     ]
    }
   ],
   "source": [
    "# refer to MTH319 Tutorial -No 2 (Part II) - NumPy and SciPy\n",
    "\n",
    "import numpy as np   # a new module\n",
    "\n",
    "x = np.array([[1,2,3],[3,4,6]]) #2 by 3 matrix\n",
    "print(np.size(x,0))\n",
    "print(np.size(x,1))\n",
    "print(np.size(x))\n",
    "\n",
    "print(np.std(x,0))\n",
    "print(np.std(x,1))\n",
    "print(np.std(x))\n",
    "\n",
    "total = x.sum()\n",
    "print(total)\n",
    "\n",
    "z = np.random.rand(50)  #50 random obs from U[0,1] \n",
    "print(z)\n",
    "y = np.random.normal(size=50)  # from N(0,1)\n",
    "print(y)\n",
    "r = np.array(range(0,10), dtype=float)/10\n",
    "print(r)\n",
    "\n"
   ]
  },
  {
   "cell_type": "code",
   "execution_count": 54,
   "metadata": {
    "scrolled": false
   },
   "outputs": [
    {
     "name": "stdout",
     "output_type": "stream",
     "text": [
      "144.55638276074038\n",
      "0.04500000000000001\n",
      "0.04411741562099358\n",
      "[-0.02  0.05  0.1 ]\n",
      "0.05\n",
      "[0. 0. 0. 0. 0. 0. 0. 0. 0. 0.]\n",
      "[[0. 0.]\n",
      " [0. 0.]\n",
      " [0. 0.]]\n",
      "[[1 1 1]\n",
      " [1 1 1]\n",
      " [1 1 1]\n",
      " [1 1 1]]\n",
      "[0. 1. 2. 3. 4. 5. 6. 7. 8. 9.]\n",
      "[[1. 0. 0. 0.]\n",
      " [0. 1. 0. 0.]\n",
      " [0. 0. 1. 0.]\n",
      " [0. 0. 0. 1.]]\n",
      "[[1. 0. 0. 0.]\n",
      " [0. 1. 0. 0.]\n",
      " [0. 0. 1. 0.]\n",
      " [0. 0. 0. 1.]]\n",
      "[[0. 1. 0. 0.]\n",
      " [0. 0. 1. 0.]\n",
      " [0. 0. 0. 1.]\n",
      " [0. 0. 0. 0.]]\n",
      "[ 1.  4.  7. 10. 13. 16. 19.]\n",
      "[[2 2 2]\n",
      " [3 3 3]]\n",
      "[100.   10.   10.2  34.   22.   34. ]\n",
      "[[100.   10. ]\n",
      " [ 10.2  34. ]\n",
      " [ 22.   34. ]]\n",
      "[[19. 23.]\n",
      " [43. 53.]]\n",
      "[[ 2.  2.  6.]\n",
      " [16.  0. 30.]]\n"
     ]
    }
   ],
   "source": [
    "import numpy as np  # a new module\n",
    "import scipy as sp\n",
    "\n",
    "cashflows =[50, 40, 20,10, 50]\n",
    "npv = sp.npv(0.1,cashflows) # NPV\n",
    "round(npv, 2)\n",
    "print(npv)\n",
    "\n",
    "ret = sp.array([0.1, 0.05, -0.02, 0.05])\n",
    "print(sp.mean(ret))\n",
    "\n",
    "geometric_ret = pow(sp.prod(ret+1),1./len(ret))-1\n",
    "print(geometric_ret)\n",
    "\n",
    "print(sp.unique(ret))\n",
    "\n",
    "print(sp.median(ret))\n",
    "\n",
    "# arrays of ones, zeros and identity matrix\n",
    "a = np.zeros(10) # arry with 10 zeros\n",
    "print(a)\n",
    "b = np.zeros((3,2),dtype = float)  #3 by 2 matrix\n",
    "print(b)\n",
    "c = np.ones((4,3),int)  #float 4 by 3 matrix\n",
    "print(c)\n",
    "d = np.array(range(10),float)\n",
    "print(d)\n",
    "e1 = np.identity(4)\n",
    "print(e1)\n",
    "e2 = np.eye(4)\n",
    "print(e2)\n",
    "e3 = np.eye(4,k=1)\n",
    "print(e3)\n",
    "f = np.arange(1,20,3, float)\n",
    "print(f)\n",
    "g = np.array([[2,2,2], [3,3,3]])  # 2 by 3\n",
    "print(g)\n",
    "\n",
    "# operation\n",
    "pv = np.array([[100,10,10.2],[34,22,34]])  # 2 by 3\n",
    "x = pv.flatten()\n",
    "print(x) # a vector\n",
    "\n",
    "vp2 = np.reshape(x, [3,2])\n",
    "print(vp2)\n",
    "\n",
    "# matrix multiplication\n",
    "x = np.array([[1,2,3],[4,5,6]],float)\n",
    "y = np.array([[1,2],[3,3],[4,5]], float)\n",
    "print(np.dot(x,y))\n",
    "\n",
    "# dot production\n",
    "x = np.array([[1,2,3],[4,5,6]],float)\n",
    "y = np.array([[2,1,2],[4,0,5]],float)\n",
    "print(x*y)"
   ]
  },
  {
   "cell_type": "code",
   "execution_count": 82,
   "metadata": {
    "collapsed": true
   },
   "outputs": [
    {
     "name": "stdout",
     "output_type": "stream",
     "text": [
      "[[ 1.73673761  1.89791391]\n",
      " [-0.37003581  1.74900181]\n",
      " [ 0.21302575 -0.51023122]\n",
      " [ 0.35026529 -1.21144444]\n",
      " [-0.27051479 -1.6910642 ]\n",
      " [ 0.93922398 -2.76624806]\n",
      " [ 1.74614319 -3.05703153]\n",
      " [ 1.52519555 -3.22618757]\n",
      " [ 2.62602999 -3.14367705]\n",
      " [ 2.6216544  -4.8662353 ]\n",
      " [ 3.67921082 -7.38414811]\n",
      " [ 1.7685707  -6.07769276]\n",
      " [ 2.19296834 -6.54686084]\n",
      " [ 1.18689581 -7.46878388]\n",
      " [ 1.81330034 -7.11160718]\n",
      " [ 1.79458178 -6.89043591]\n",
      " [ 2.49318589 -6.05592589]\n",
      " [ 0.82754806 -8.95736573]\n",
      " [ 0.77890953 -9.00274406]\n",
      " [ 2.25424343 -9.51643749]]\n"
     ]
    },
    {
     "data": {
      "text/plain": [
       "Text(0, 0.5, 'value')"
      ]
     },
     "execution_count": 82,
     "metadata": {},
     "output_type": "execute_result"
    },
    {
     "data": {
      "image/png": "[encoded data removed]",
      "text/plain": [
       "<Figure size 504x288 with 1 Axes>"
      ]
     },
     "metadata": {
      "needs_background": "light"
     },
     "output_type": "display_data"
    },
    {
     "data": {
      "image/png": "[encoded data removed]",
      "text/plain": [
       "<Figure size 504x360 with 2 Axes>"
      ]
     },
     "metadata": {
      "needs_background": "light"
     },
     "output_type": "display_data"
    }
   ],
   "source": [
    "# refer to MTH319 Tutorial -No 2 (Part III) - Data Visualization\n",
    "\n",
    "numpy as np\n",
    "import matplotlib as mpl\n",
    "import matplotlib.pyplot as plt\n",
    "\n",
    "np.random.seed(1000)\n",
    "y = np.random.standard_normal(20)\n",
    "\n",
    "#plt.plot(y.cumsum())\n",
    "\n",
    "x = range(len(y))\n",
    "\n",
    "plt.figure(figsize=(7,4))\n",
    "#plt.plot(x,y)\n",
    "plt.plot(y.cumsum(), 'b', lw=1.5)\n",
    "plt.plot(y.cumsum(), 'ro')\n",
    "plt.grid(True)\n",
    "plt.axis('tight')\n",
    "plt.xlabel('index')\n",
    "plt.ylabel('value')\n",
    "plt.title('A Simple Plot')\n",
    "\n",
    "# 2\n",
    "np.random.seed(2000)\n",
    "y = np.random.standard_normal((20,2)).cumsum(axis=0)\n",
    "print(y)\n",
    "\n",
    "y[:,0] = y[:,0]*10\n",
    "\n",
    "plt.figure(figsize=(7,5))\n",
    "plt.title('A Simple Plot')\n",
    "plt.subplot(211)\n",
    "plt.plot(y[:,0], 'b', lw=1.5, label='1st')\n",
    "plt.plot(y[:,0], 'ro')\n",
    "plt.grid(True)\n",
    "plt.legend(loc=0)\n",
    "plt.axis('tight')\n",
    "#plt.xlabel('index')\n",
    "plt.ylabel('value')\n",
    "\n",
    "plt.subplot(212)\n",
    "plt.plot(y[:,1], 'g', lw=1.5, label='2nd')\n",
    "plt.plot(y[:,1], 'ro')\n",
    "plt.grid(True)\n",
    "plt.legend(loc=0)\n",
    "plt.axis('tight')\n",
    "plt.xlabel('index')\n",
    "plt.ylabel('value')\n",
    "\n"
   ]
  },
  {
   "cell_type": "code",
   "execution_count": 69,
   "metadata": {
    "collapsed": true
   },
   "outputs": [
    {
     "name": "stdout",
     "output_type": "stream",
     "text": [
      "[ 0.          1.11111111  2.22222222  3.33333333  4.44444444  5.55555556\n",
      "  6.66666667  7.77777778  8.88888889 10.        ]\n",
      "[1.         0.69047855 0.47676063 0.32919299 0.2273007  0.15694626\n",
      " 0.10836802 0.0748258  0.05166561 0.03567399]\n"
     ]
    },
    {
     "data": {
      "image/png": "[encoded data removed]",
      "text/plain": [
       "<Figure size 432x288 with 1 Axes>"
      ]
     },
     "metadata": {
      "needs_background": "light"
     },
     "output_type": "display_data"
    }
   ],
   "source": [
    "# interpolation\n",
    "import numpy as np\n",
    "import matplotlib.pyplot as plt\n",
    "from scipy.interpolate import interp1d # 1-dimension\n",
    "\n",
    "x = np.linspace(0,10,10)\n",
    "print(x)\n",
    "\n",
    "y = np.exp(-x/3.0)\n",
    "print(y)\n",
    "\n",
    "f = interp1d(x, y)\n",
    "#print(f)\n",
    "\n",
    "f2 = interp1d(x, y, kind='cubic')\n",
    "#print(f2)\n",
    "\n",
    "xnew = np.linspace(0,10,40)\n",
    "plt.plot(x, y,'o', xnew, f(xnew), '-', xnew, f2(xnew), '-*')\n",
    "plt.legend(['data','linear','cubic'], loc='best')\n",
    "plt.show()\n"
   ]
  },
  {
   "cell_type": "code",
   "execution_count": null,
   "metadata": {},
   "outputs": [],
   "source": []
  },
  {
   "cell_type": "code",
   "execution_count": null,
   "metadata": {},
   "outputs": [],
   "source": []
  }
 ],
 "metadata": {
  "kernelspec": {
   "display_name": "Python 3",
   "language": "python",
   "name": "python3"
  },
  "language_info": {
   "codemirror_mode": {
    "name": "ipython",
    "version": 3
   },
   "file_extension": ".py",
   "mimetype": "text/x-python",
   "name": "python",
   "nbconvert_exporter": "python",
   "pygments_lexer": "ipython3",
   "version": "3.7.6"
  }
 },
 "nbformat": 4,
 "nbformat_minor": 2
}
